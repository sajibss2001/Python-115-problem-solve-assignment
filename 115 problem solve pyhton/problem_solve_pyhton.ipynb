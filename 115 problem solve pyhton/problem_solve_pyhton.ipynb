{
 "cells": [
  {
   "cell_type": "markdown",
   "metadata": {},
   "source": [
    "1. Variable Swap: Write a Python program to swap the values of two variables without using a temporary variable."
   ]
  },
  {
   "cell_type": "code",
   "execution_count": 20,
   "metadata": {},
   "outputs": [
    {
     "name": "stdout",
     "output_type": "stream",
     "text": [
      "After Swaping value : \n",
      "Value_1 : 10 and Value_2 : 20\n",
      "After Swaping value : \n",
      "Value_1 : 20 and Value_2 : 10\n"
     ]
    }
   ],
   "source": [
    "value_1=10\n",
    "value_2=20\n",
    "print(f\"After Swaping value : \\nValue_1 : {value_1} and Value_2 : {value_2}\")\n",
    "(value_1,value_2)=(value_2,value_1)\n",
    "print(f\"After Swaping value : \\nValue_1 : {value_1} and Value_2 : {value_2}\")"
   ]
  },
  {
   "cell_type": "markdown",
   "metadata": {},
   "source": [
    "2. Even or Odd: Write a Python program that takes an integer as input and prints whether it is even or odd."
   ]
  },
  {
   "cell_type": "code",
   "execution_count": 2,
   "metadata": {},
   "outputs": [],
   "source": [
    "input_Value=int(input(\"Enter the number : \"))\n",
    "\n",
    "if(input_Value % 2 == 0):\n",
    "    print(\"The number is EVEN Number\")\n",
    "elif(input_Value % 2 != 0):\n",
    "    print(\"The number is ODD Number\")\n",
    "else:\n",
    "    print(\"Invalid Number !!!!\")    "
   ]
  },
  {
   "cell_type": "markdown",
   "metadata": {},
   "source": [
    "3. String Reverse: Write a Python function to reverse a given string and return the reversed string."
   ]
  },
  {
   "cell_type": "code",
   "execution_count": null,
   "metadata": {},
   "outputs": [
    {
     "name": "stdout",
     "output_type": "stream",
     "text": [
      "bijas\n"
     ]
    }
   ],
   "source": [
    "input_Value=str(input(\"Enter the String : \"))\n",
    "def reversed_function(value):\n",
    "    return value[::-1]\n",
    "num=reversed_function(input_Value) #create reversed string function  \n",
    "print(num)"
   ]
  },
  {
   "cell_type": "markdown",
   "metadata": {},
   "source": [
    "4. Type Conversion: Given a list of integers, write a Python program to convert each element of the list to a string"
   ]
  },
  {
   "cell_type": "code",
   "execution_count": 2,
   "metadata": {},
   "outputs": [
    {
     "name": "stdout",
     "output_type": "stream",
     "text": [
      "['1', '2', '3', '4', '5', '6', '7', '8']\n"
     ]
    }
   ],
   "source": [
    "Given_Int=[1,2,3,4,5,6,7,8]\n",
    "Int_to_String=map(str,Given_Int) # Convert int element to string element\n",
    "print(list(Int_to_String))"
   ]
  },
  {
   "cell_type": "markdown",
   "metadata": {},
   "source": [
    "5. Temperature Converter: Write a Python program that converts a temperature in Celsius to Fahrenheit. Take the Celsius temperature as input from the user."
   ]
  },
  {
   "cell_type": "code",
   "execution_count": 4,
   "metadata": {},
   "outputs": [
    {
     "name": "stdout",
     "output_type": "stream",
     "text": [
      "Farenhit Tempreture : 113.0\n"
     ]
    }
   ],
   "source": [
    "Celcius_temp=float(input(\"Enter Celcius Temperature : \"))\n",
    "Farenhit_temp=((9/5)*Celcius_temp)+32\n",
    "print(f\"Farenhit Tempreture : {Farenhit_temp}\")"
   ]
  },
  {
   "cell_type": "markdown",
   "metadata": {},
   "source": [
    "6. Data Type Checker: Write a Python function that takes a variable as input and returns the data type of the variable as a string (e.g., “int”, “float”, “str”, “list”, etc.)."
   ]
  },
  {
   "cell_type": "code",
   "execution_count": 5,
   "metadata": {},
   "outputs": [
    {
     "name": "stdout",
     "output_type": "stream",
     "text": [
      "Input Value is 'str'\n"
     ]
    }
   ],
   "source": [
    "input_Value=(input(\"Enter the Value : \"))\n",
    "def Type_Checker(val):\n",
    "    try:\n",
    "        input=int(val)\n",
    "        print(\"Input value is 'int'\")\n",
    "    except ValueError:\n",
    "        try:\n",
    "            input=float(val)\n",
    "            print(\"Input Value is 'float'\")\n",
    "        except ValueError:\n",
    "            try:\n",
    "                input=str(val)\n",
    "                print(\"Input Value is 'str'\")\n",
    "            except ValueError:\n",
    "                try:\n",
    "                    input=bool(val)\n",
    "                    print(\"Input Valur is 'bool'\")\n",
    "                except ValueError:\n",
    "                    try:\n",
    "                        input=list(val)\n",
    "                        print(\"Input Value is 'list'\")\n",
    "                    except ValueError:\n",
    "                        print(\"Other type !!!!\") \n",
    "\n",
    "Type_Checker(input_Value)      "
   ]
  },
  {
   "cell_type": "markdown",
   "metadata": {},
   "source": [
    "7. String Palindrome: Write a Python function to check if a given string is a palindrome or not."
   ]
  },
  {
   "cell_type": "code",
   "execution_count": 9,
   "metadata": {},
   "outputs": [
    {
     "name": "stdout",
     "output_type": "stream",
     "text": [
      "String is not Palindrome\n"
     ]
    }
   ],
   "source": [
    "input_string=str(input(\"Enter the String : \"))\n",
    "reverse_string=input_string[::-1]\n",
    "if(input_string==reverse_string):\n",
    "    print(\"String is Palindrome\")\n",
    "else:\n",
    "    print(\"String is not Palindrome\")\n"
   ]
  },
  {
   "cell_type": "markdown",
   "metadata": {},
   "source": [
    "8. String Reversal with Slicing: Write a Python function to reverse a given string using slicing."
   ]
  },
  {
   "cell_type": "code",
   "execution_count": 10,
   "metadata": {},
   "outputs": [
    {
     "name": "stdout",
     "output_type": "stream",
     "text": [
      "Reverse String : ihsannaS bijas\n"
     ]
    }
   ],
   "source": [
    "input_string=str(input(\"Enter the String : \"))\n",
    "reverse_string=input_string[::-1]\n",
    "print(f\"Reverse String : {reverse_string}\")\n"
   ]
  },
  {
   "cell_type": "markdown",
   "metadata": {},
   "source": [
    "9. String Concatenation: Write a Python program that takes two strings as input and concatenates them into a single string without using the `+` operator."
   ]
  },
  {
   "cell_type": "code",
   "execution_count": 11,
   "metadata": {},
   "outputs": [
    {
     "name": "stdout",
     "output_type": "stream",
     "text": [
      "Sajib  + Sannashi = Sajib Sannashi\n"
     ]
    }
   ],
   "source": [
    "string_1=str(input(\"Enter first string : \"))\n",
    "string_2=str(input(\"Enter second string : \"))\n",
    "single_string=string_1+string_2 # using + operator to string concatenation\n",
    "print(f\"{string_1} + {string_2} = {single_string}\")"
   ]
  },
  {
   "cell_type": "markdown",
   "metadata": {},
   "source": [
    "10. Typecasting Challenge: Given three variables: `a = ‘100’`, `b = 25`, and `c = ‘10.5’`, write a Python program to perform the following operations and print the results: – Convert `a` to an integer and add it to `b`. – Convert `c` to a float and subtract it from the result of the first operation. – Convert the final result to a string and concatenate it with the string ” is the answer.”"
   ]
  },
  {
   "cell_type": "code",
   "execution_count": 15,
   "metadata": {},
   "outputs": [
    {
     "name": "stdout",
     "output_type": "stream",
     "text": [
      "114.5\n",
      "100\n"
     ]
    }
   ],
   "source": [
    "a='100'\n",
    "b='25'\n",
    "c='10.5'\n",
    "result=int(a)+int(b)-float(c)\n",
    "print(str(result))"
   ]
  },
  {
   "cell_type": "markdown",
   "metadata": {},
   "source": [
    "11. Positive, Negative, or Zero: Write a Python program that takes a number as input and prints whether it is positive, negative, or zero."
   ]
  },
  {
   "cell_type": "code",
   "execution_count": 17,
   "metadata": {},
   "outputs": [
    {
     "name": "stdout",
     "output_type": "stream",
     "text": [
      "The number is negative\n"
     ]
    }
   ],
   "source": [
    "input_numner=int(input(\"Enter the number : \"))\n",
    "if(input_numner>0):\n",
    "    print(\"The number is positive number\")\n",
    "elif(input_numner<0):\n",
    "    print(\"The number is negative\")\n",
    "elif(input_numner==0):\n",
    "    print(\"The number is zero\")\n",
    "else:\n",
    "    print(\"Invalid number !!!!!\")"
   ]
  },
  {
   "cell_type": "markdown",
   "metadata": {},
   "source": [
    "12. Largest of Three Numbers: Write a Python program that takes three numbers as input and prints the largest among them."
   ]
  },
  {
   "cell_type": "code",
   "execution_count": 18,
   "metadata": {},
   "outputs": [
    {
     "name": "stdout",
     "output_type": "stream",
     "text": [
      "3.0 is maximum number\n"
     ]
    }
   ],
   "source": [
    "num_1=float(input(\"Enter the 1st number : \"))\n",
    "num_2=float(input(\"Enter the 2nd number : \"))\n",
    "num_3=float(input(\"Enter the 3rd number : \"))\n",
    "\n",
    "if(num_1>num_2 and num_1>num_3):\n",
    "    print(f\"{num_1} is maximum number\")\n",
    "elif(num_2>num_3 and num_1>num_1):\n",
    "    print(f\"{num_2} is maximum number\")\n",
    "elif(num_3>num_1 and num_3>num_2):\n",
    "    print(f\"{num_3} is maximum number\")\n",
    "else:\n",
    "    print(\"All number are equal\")"
   ]
  },
  {
   "cell_type": "markdown",
   "metadata": {},
   "source": [
    "13. Leap Year Checker: Write a Python program that takes a year as input and determines if it is a leap year or not."
   ]
  },
  {
   "cell_type": "code",
   "execution_count": null,
   "metadata": {},
   "outputs": [],
   "source": [
    "year=int(input(\"Enter the Year : \"))\n",
    "if((year%4==0 and year%100!=0) or year%400==0):\n",
    "    print(f\"{year} is Leap year\")\n",
    "else:\n",
    "    print(f\"{year} is not Leap year\")"
   ]
  },
  {
   "cell_type": "markdown",
   "metadata": {},
   "source": [
    "14. Grades Classification: Write a Python program that takes a student’s percentage as input and prints their corresponding grade according to the following criteria: – 90% or above: A+ – 80-89%: A – 70-79%: B – 60-69%: C – Below 60%: Fail"
   ]
  },
  {
   "cell_type": "code",
   "execution_count": null,
   "metadata": {},
   "outputs": [],
   "source": [
    "mark=float(input(\"Enter your mark : \"))\n",
    "if(mark>=80 and 100>=mark):\n",
    "    print(f\"Your grade point 'A+'\")\n",
    "elif(mark>=70 and mark<80):\n",
    "    print(\"Your grade point is 'A'\")\n",
    "elif(mark>=60 and mark<70):\n",
    "    print(\"Your grade point is 'A-'\")\n",
    "elif(mark>=50 and mark<60):\n",
    "    print(\"Your grade point is 'B'\")\n",
    "elif(mark>=40 and mark<50):\n",
    "    print(\"Your grade point is 'C'\")\n",
    "elif(mark>=33 and mark<40):\n",
    "    print(\"Your is grade point is 'D'\")\n",
    "elif(mark>=0 and mark<33):\n",
    "    print(\"Fail !!!\")\n",
    "else:\n",
    "    print(\"Invalid number !!!!\")"
   ]
  },
  {
   "cell_type": "markdown",
   "metadata": {},
   "source": [
    "15. Vowel or Consonant: Write a Python program that takes a single character as input and determines whether it is a vowel or a consonant."
   ]
  },
  {
   "cell_type": "code",
   "execution_count": 22,
   "metadata": {},
   "outputs": [
    {
     "name": "stdout",
     "output_type": "stream",
     "text": [
      "A is vowel\n"
     ]
    }
   ],
   "source": [
    "input_char=str(input(\"Enter any single character : \"))\n",
    "if(input_char=='A' or input_char=='E' or input_char=='I' or input_char=='O' or input_char=='U'\n",
    "   or input_char=='a' or input_char=='e' or input_char=='i' or input_char=='o' or input_char=='u'):\n",
    "    print(f\"{input_char} is vowel\")\n",
    "else:\n",
    "    print(f\"{input_char} is consonent\")"
   ]
  },
  {
   "cell_type": "markdown",
   "metadata": {},
   "source": [
    "16. Time Classification: Write a Python program that takes the time in hours (24-hour format) as input and prints “Good Morning”, “Good Afternoon”, “Good Evening”, or “Good Night” based on the time."
   ]
  },
  {
   "cell_type": "code",
   "execution_count": 23,
   "metadata": {},
   "outputs": [
    {
     "name": "stdout",
     "output_type": "stream",
     "text": [
      "Good Afternoon\n"
     ]
    }
   ],
   "source": [
    "hour = int(input(\"Enter the time 1-24\"))\n",
    "if hour>=5 and hour<12:\n",
    "    print('Good Morning')\n",
    "elif hour>=12 and hour<17:\n",
    "    print('Good Afternoon')\n",
    "elif hour>=17 and hour<21:\n",
    "    print('Good Evening')\n",
    "else:\n",
    "    print('Good Night')"
   ]
  },
  {
   "cell_type": "markdown",
   "metadata": {},
   "source": [
    "17. Triangle Type Checker: Write a Python program that takes three sides of a triangle as input and determines whether it forms an equilateral, Isosceles, or scalene triangle."
   ]
  },
  {
   "cell_type": "code",
   "execution_count": 26,
   "metadata": {},
   "outputs": [
    {
     "name": "stdout",
     "output_type": "stream",
     "text": [
      "Triangle is Sealene\n"
     ]
    }
   ],
   "source": [
    "side_1=float(input(\"Enter 1st Side : \"))\n",
    "side_2=float(input(\"Enter 2nd Side : \"))\n",
    "side_3=float(input(\"Enter 3rd Side : \"))\n",
    "if(side_1 == side_2 == side_3):\n",
    "    print(\"Triangle is Equilateral\")\n",
    "elif(side_1 == side_2 or side_1==side_3 or side_2==side_3):\n",
    "    print(\"Triangle is Isosceles\")\n",
    "else:\n",
    "    print(\"Triangle is Sealene\")  "
   ]
  },
  {
   "cell_type": "markdown",
   "metadata": {},
   "source": [
    "18. Quadratic Equation Solver: Write a Python program that takes the coefficients (a, b, c) of a quadratic equation as input and calculates and prints the real roots (if they exist) or a message indicating the complex roots."
   ]
  },
  {
   "cell_type": "code",
   "execution_count": 5,
   "metadata": {},
   "outputs": [
    {
     "name": "stdout",
     "output_type": "stream",
     "text": [
      "root1 : -0.1715728752538097 \n",
      "root2 : -5.82842712474619\n"
     ]
    }
   ],
   "source": [
    "import math\n",
    "a=float(input(\"Enter cofficient a : \"))\n",
    "b=float(input(\"Enter cofficient b : \"))\n",
    "c=float(input(\"Enter cofficient c : \"))\n",
    "\n",
    "D=b*b - 4*a*c\n",
    "if D>0:\n",
    "    root1=(-b+math.sqrt(D))/(2*a)\n",
    "    root2=(-b-math.sqrt(D))/(2*a)\n",
    "    print(f\"root1 : {root1} \\nroot2 : {root2}\")\n",
    "elif D==0:\n",
    "    root=-b/(2*a)\n",
    "    print(f\"root : {root}\")\n",
    "else:\n",
    "    real_part = -b / (2 * a)\n",
    "    imaginary_part = math.sqrt(abs(D)) / (2 * a)\n",
    "    print(f\"Real part : {real_part}\\nImaginary part : {imaginary_part}\")\n"
   ]
  },
  {
   "cell_type": "markdown",
   "metadata": {},
   "source": [
    "19. Number Ranges: Write a Python program that takes an integer as input and prints whether the number falls within the ranges: 0-50, 51-100, 101-150, or above 150."
   ]
  },
  {
   "cell_type": "code",
   "execution_count": 11,
   "metadata": {},
   "outputs": [
    {
     "name": "stdout",
     "output_type": "stream",
     "text": [
      "Number range : upto 150\n"
     ]
    }
   ],
   "source": [
    "input_number=int(input(\"Enter the number : \"))\n",
    "if input_number>=0 and input_number<=50:\n",
    "    print(\"Number range : 0-50\")\n",
    "elif input_number>=51 and input_number<=100:\n",
    "    print(\"Number range : 51-100\")\n",
    "elif input_number>=101 and input_number<=150:\n",
    "    print(\"Number range : 101-150\")\n",
    "else:\n",
    "    print(\"Number range : upto 150\") "
   ]
  },
  {
   "cell_type": "markdown",
   "metadata": {},
   "source": [
    "20. Sum of N Numbers: Write a Python program using a for loop to calculate the sum of the first N natural numbers, where N is taken as input from the user."
   ]
  },
  {
   "cell_type": "code",
   "execution_count": 13,
   "metadata": {},
   "outputs": [
    {
     "name": "stdout",
     "output_type": "stream",
     "text": [
      "Sum of N number : 45\n"
     ]
    }
   ],
   "source": [
    "num=int(input(\"Enter the number : \"))\n",
    "sum=0\n",
    "for i in range(num):\n",
    "    sum=sum+i\n",
    "print(f\"Sum of N number : {sum}\")"
   ]
  },
  {
   "cell_type": "markdown",
   "metadata": {},
   "source": [
    "21. Factorial Calculator: Write a Python program using a while loop to calculate the factorial of a given number N."
   ]
  },
  {
   "cell_type": "code",
   "execution_count": 14,
   "metadata": {},
   "outputs": [
    {
     "name": "stdout",
     "output_type": "stream",
     "text": [
      "Number of factorial : 120\n"
     ]
    }
   ],
   "source": [
    "num=int(input(\"Enter the number : \"))\n",
    "i=num\n",
    "fact=1\n",
    "while(i>=1):\n",
    "    fact=fact*i\n",
    "    i=i-1\n",
    "print(f\"Number of factorial : {fact}\")"
   ]
  },
  {
   "cell_type": "markdown",
   "metadata": {},
   "source": [
    "22. Table of a Number: Write a Python program using a for loop to print the multiplication table of a given number N."
   ]
  },
  {
   "cell_type": "code",
   "execution_count": 17,
   "metadata": {},
   "outputs": [
    {
     "name": "stdout",
     "output_type": "stream",
     "text": [
      "12 * 1 = 12\n",
      "12 * 2 = 24\n",
      "12 * 3 = 36\n",
      "12 * 4 = 48\n",
      "12 * 5 = 60\n",
      "12 * 6 = 72\n",
      "12 * 7 = 84\n",
      "12 * 8 = 96\n",
      "12 * 9 = 108\n",
      "12 * 10 = 120\n"
     ]
    }
   ],
   "source": [
    "num=int(input(\"Enter the number : \"))\n",
    "for i in range(1,11,1):\n",
    "    print(f\"{num} * {i} = {num*i}\")"
   ]
  },
  {
   "cell_type": "markdown",
   "metadata": {},
   "source": [
    "23. Count Digits in a Number: Write a Python program using a while loop to count the number of digits in a given integer N."
   ]
  },
  {
   "cell_type": "code",
   "execution_count": 20,
   "metadata": {},
   "outputs": [
    {
     "name": "stdout",
     "output_type": "stream",
     "text": [
      "Number of digit : 6\n"
     ]
    }
   ],
   "source": [
    "num=int(input(\"Enter the number : \"))\n",
    "count=1\n",
    "while(num>9):\n",
    "    num=int(num/10)\n",
    "    count+=1\n",
    "print(f\"Number of digit : {count}\")"
   ]
  },
  {
   "cell_type": "markdown",
   "metadata": {},
   "source": [
    "24. Fibonacci Sequence: Write a Python program using a for loop to generate the Fibonacci sequence up to a given limit N."
   ]
  },
  {
   "cell_type": "code",
   "execution_count": 21,
   "metadata": {},
   "outputs": [
    {
     "name": "stdout",
     "output_type": "stream",
     "text": [
      "0 1 1 2 3 5 8 "
     ]
    }
   ],
   "source": [
    "number=int(input(\"Enter the number : \"))\n",
    "num1=0\n",
    "num2=1\n",
    "print(\"0 1 \",end=\"\")\n",
    "for i in range(1,number+1):\n",
    "    sum=num1+num2\n",
    "    print(f\"{sum} \",end=\"\")\n",
    "    num1=num2\n",
    "    num2=sum"
   ]
  },
  {
   "cell_type": "markdown",
   "metadata": {},
   "source": [
    "25. Sum of Even Numbers: Write a Python program using a while loop to calculate the sum of all even numbers between 1 and N, where N is taken as input from the user."
   ]
  },
  {
   "cell_type": "code",
   "execution_count": 23,
   "metadata": {},
   "outputs": [
    {
     "name": "stdout",
     "output_type": "stream",
     "text": [
      "Sum of even number : 6\n"
     ]
    }
   ],
   "source": [
    "num=int(input(\"Enter the number : \"))\n",
    "sum=0\n",
    "for i in range(num+1):\n",
    "    if(i%2==0):\n",
    "        sum=sum+i\n",
    "print(f\"Sum of even number : {sum}\")"
   ]
  },
  {
   "cell_type": "markdown",
   "metadata": {},
   "source": [
    "26. Print Patterns: Write a Python program using nested for loops to print various patterns, such as a right-angled triangle, an inverted right-angled triangle, and so on."
   ]
  },
  {
   "cell_type": "code",
   "execution_count": 35,
   "metadata": {},
   "outputs": [
    {
     "name": "stdout",
     "output_type": "stream",
     "text": [
      "**********\n",
      "\n",
      "*        *\n",
      "\n",
      "*        *\n",
      "\n",
      "*        *\n",
      "\n",
      "**********\n",
      "\n"
     ]
    }
   ],
   "source": [
    "for i in range(5):\n",
    "    for j in range(10):\n",
    "        if(i==0 or i==4):\n",
    "            print(\"*\",end='')\n",
    "        else:\n",
    "            if(j==0 or j==9):\n",
    "                print(\"*\",end=\"\")\n",
    "            else:\n",
    "                print(\" \",end='')\n",
    "    print(\"\\n\")\n",
    "\n"
   ]
  },
  {
   "cell_type": "code",
   "execution_count": 42,
   "metadata": {},
   "outputs": [
    {
     "name": "stdout",
     "output_type": "stream",
     "text": [
      "*\n",
      "\n",
      "* *\n",
      "\n",
      "*   *\n",
      "\n",
      "*     *\n",
      "\n",
      "*********\n",
      "\n"
     ]
    }
   ],
   "source": [
    "for i in range(10):\n",
    "    if(i%2!=0):\n",
    "        for j in range(i):\n",
    "            if(j==0 or j==i-1 or i==9 ):\n",
    "                print(\"*\",end=\"\")\n",
    "            else:\n",
    "                print(\" \",end=\"\")\n",
    "        print(\"\\n\")\n",
    "    else:\n",
    "        continue    "
   ]
  },
  {
   "cell_type": "markdown",
   "metadata": {},
   "source": [
    "27. Prime Number Checker: Write a Python program using a while loop to check if a given number N is prime or not."
   ]
  },
  {
   "cell_type": "code",
   "execution_count": 43,
   "metadata": {},
   "outputs": [
    {
     "name": "stdout",
     "output_type": "stream",
     "text": [
      "7 is prime number\n"
     ]
    }
   ],
   "source": [
    "number=int(input(\"Enter the number : \"))\n",
    "count=0 #divied checker\n",
    "for i in range(2,number):\n",
    "    if(number%i==0):\n",
    "        count=count+1\n",
    "\n",
    "if(number==0 or number==1):\n",
    "    print(f\"{number} is not prime number\")\n",
    "elif(count==0):\n",
    "    print(f\"{number} is prime number\")\n",
    "else:\n",
    "    print(f\"{number} is not prime number\")"
   ]
  },
  {
   "cell_type": "markdown",
   "metadata": {},
   "source": [
    "28. List Manipulation: Given a list of integers, write a Python program using a for loop to find the sum, average, maximum, and minimum values in the list."
   ]
  },
  {
   "cell_type": "code",
   "execution_count": 2,
   "metadata": {},
   "outputs": [
    {
     "name": "stdout",
     "output_type": "stream",
     "text": [
      "SUM = 957\n",
      "Maximum = 675\n",
      "Minimum = 1\n",
      "Average = 56.294117647058826\n"
     ]
    }
   ],
   "source": [
    "list=[1,2,7,2,5,9,2,5,9,3,67,73,7,2,84,675,4]\n",
    "sum=0\n",
    "max=list[0]\n",
    "min=list[0]\n",
    "for i in range(len(list)):\n",
    "    sum=sum+list[i]\n",
    "print(f\"SUM = {sum}\")\n",
    "for i in range(1,len(list),1):\n",
    "    if(list[i]>max):\n",
    "        max=list[i]\n",
    "    if(min>list[i]):\n",
    "        min=list[i]\n",
    "print(f\"Maximum = {max}\")\n",
    "print(f\"Minimum = {min}\")\n",
    "avg=sum/(len(list))\n",
    "print(f\"Average = {avg}\")\n"
   ]
  },
  {
   "cell_type": "markdown",
   "metadata": {},
   "source": [
    "29. Reverse String: Write a Python program using a while loop to reverse a given string."
   ]
  },
  {
   "cell_type": "code",
   "execution_count": 12,
   "metadata": {},
   "outputs": [
    {
     "name": "stdout",
     "output_type": "stream",
     "text": [
      "Input string : sajib\n",
      "Reverse string : bijas\n"
     ]
    }
   ],
   "source": [
    "string=str(input(\"Enter the string : \"))\n",
    "i=len(string)-1\n",
    "reverse_string=\"\"\n",
    "while(i>=0):\n",
    "    reverse_string+=string[i]\n",
    "    i-=1\n",
    "print(f\"Input string : {string}\\nReverse string : {reverse_string}\")\n"
   ]
  },
  {
   "cell_type": "markdown",
   "metadata": {},
   "source": [
    "Multiplication Table: Write a Python program using nested loops to print the multiplication table from 1 to 10."
   ]
  },
  {
   "cell_type": "code",
   "execution_count": 16,
   "metadata": {},
   "outputs": [
    {
     "name": "stdout",
     "output_type": "stream",
     "text": [
      "1 * 1 = 1\n",
      "1 * 2 = 2\n",
      "1 * 3 = 3\n",
      "1 * 4 = 4\n",
      "1 * 5 = 5\n",
      "1 * 6 = 6\n",
      "1 * 7 = 7\n",
      "1 * 8 = 8\n",
      "1 * 9 = 9\n",
      "1 * 10 = 10\n",
      "\n",
      "\n",
      "2 * 1 = 2\n",
      "2 * 2 = 4\n",
      "2 * 3 = 6\n",
      "2 * 4 = 8\n",
      "2 * 5 = 10\n",
      "2 * 6 = 12\n",
      "2 * 7 = 14\n",
      "2 * 8 = 16\n",
      "2 * 9 = 18\n",
      "2 * 10 = 20\n",
      "\n",
      "\n",
      "3 * 1 = 3\n",
      "3 * 2 = 6\n",
      "3 * 3 = 9\n",
      "3 * 4 = 12\n",
      "3 * 5 = 15\n",
      "3 * 6 = 18\n",
      "3 * 7 = 21\n",
      "3 * 8 = 24\n",
      "3 * 9 = 27\n",
      "3 * 10 = 30\n",
      "\n",
      "\n",
      "4 * 1 = 4\n",
      "4 * 2 = 8\n",
      "4 * 3 = 12\n",
      "4 * 4 = 16\n",
      "4 * 5 = 20\n",
      "4 * 6 = 24\n",
      "4 * 7 = 28\n",
      "4 * 8 = 32\n",
      "4 * 9 = 36\n",
      "4 * 10 = 40\n",
      "\n",
      "\n",
      "5 * 1 = 5\n",
      "5 * 2 = 10\n",
      "5 * 3 = 15\n",
      "5 * 4 = 20\n",
      "5 * 5 = 25\n",
      "5 * 6 = 30\n",
      "5 * 7 = 35\n",
      "5 * 8 = 40\n",
      "5 * 9 = 45\n",
      "5 * 10 = 50\n",
      "\n",
      "\n",
      "6 * 1 = 6\n",
      "6 * 2 = 12\n",
      "6 * 3 = 18\n",
      "6 * 4 = 24\n",
      "6 * 5 = 30\n",
      "6 * 6 = 36\n",
      "6 * 7 = 42\n",
      "6 * 8 = 48\n",
      "6 * 9 = 54\n",
      "6 * 10 = 60\n",
      "\n",
      "\n",
      "7 * 1 = 7\n",
      "7 * 2 = 14\n",
      "7 * 3 = 21\n",
      "7 * 4 = 28\n",
      "7 * 5 = 35\n",
      "7 * 6 = 42\n",
      "7 * 7 = 49\n",
      "7 * 8 = 56\n",
      "7 * 9 = 63\n",
      "7 * 10 = 70\n",
      "\n",
      "\n",
      "8 * 1 = 8\n",
      "8 * 2 = 16\n",
      "8 * 3 = 24\n",
      "8 * 4 = 32\n",
      "8 * 5 = 40\n",
      "8 * 6 = 48\n",
      "8 * 7 = 56\n",
      "8 * 8 = 64\n",
      "8 * 9 = 72\n",
      "8 * 10 = 80\n",
      "\n",
      "\n",
      "9 * 1 = 9\n",
      "9 * 2 = 18\n",
      "9 * 3 = 27\n",
      "9 * 4 = 36\n",
      "9 * 5 = 45\n",
      "9 * 6 = 54\n",
      "9 * 7 = 63\n",
      "9 * 8 = 72\n",
      "9 * 9 = 81\n",
      "9 * 10 = 90\n",
      "\n",
      "\n",
      "10 * 1 = 10\n",
      "10 * 2 = 20\n",
      "10 * 3 = 30\n",
      "10 * 4 = 40\n",
      "10 * 5 = 50\n",
      "10 * 6 = 60\n",
      "10 * 7 = 70\n",
      "10 * 8 = 80\n",
      "10 * 9 = 90\n",
      "10 * 10 = 100\n",
      "\n",
      "\n"
     ]
    }
   ],
   "source": [
    "for i in range(1,11,1):\n",
    "    num=i\n",
    "    for i in range(1,11,1):\n",
    "        print(f\"{num} * {i} = {num*i}\")\n",
    "    print(\"\\n\")    "
   ]
  },
  {
   "cell_type": "markdown",
   "metadata": {},
   "source": [
    "31. Print Patterns: Write a Python program using nested loops to print the following pattern:\n",
    "\n",
    "*\n",
    "\n",
    "**\n",
    "\n",
    "***\n",
    "\n",
    "****\n",
    "\n",
    "*****"
   ]
  },
  {
   "cell_type": "code",
   "execution_count": 18,
   "metadata": {},
   "outputs": [
    {
     "name": "stdout",
     "output_type": "stream",
     "text": [
      "\n",
      "\n",
      "*\n",
      "\n",
      "**\n",
      "\n",
      "***\n",
      "\n",
      "****\n",
      "\n"
     ]
    }
   ],
   "source": [
    "for i in range(5):\n",
    "    for j in range(i):\n",
    "        print(\"*\",end='')\n",
    "    print(\"\\n\")    \n"
   ]
  },
  {
   "cell_type": "markdown",
   "metadata": {},
   "source": [
    "32. Matrix Multiplication: Write a Python program using nested loops to multiply two matrices."
   ]
  },
  {
   "cell_type": "code",
   "execution_count": 49,
   "metadata": {},
   "outputs": [
    {
     "name": "stdout",
     "output_type": "stream",
     "text": [
      "[[30, 36, 42], [66, 81, 96], [102, 126, 150]]\n"
     ]
    }
   ],
   "source": [
    "matrix_1=[[1,2,3],\n",
    "          [4,5,6],\n",
    "          [7,8,9]]\n",
    "\n",
    "matrix_2=[[1,2,3],\n",
    "          [4,5,6],\n",
    "          [7,8,9]]\n",
    "result_matrix = [[0 for i in range(3)] for j in range(3)]\n",
    "for i in range(3):\n",
    "    for j in range(3):\n",
    "        for k in range(3):\n",
    "            result_matrix[i][j]=result_matrix[i][j]+(matrix_1[i][k]*matrix_1[k][j])\n",
    "print(result_matrix)\n",
    "            "
   ]
  },
  {
   "cell_type": "markdown",
   "metadata": {},
   "source": [
    "33. Chessboard Pattern: Write a Python program using nested loops to print a chessboard pattern (alternating “X” and “O” characters) of size 8×8.34. Number Pyramid: Write a Python program using nested loops to print a number pyramid like the following: 1 22 333 4444 55555"
   ]
  },
  {
   "cell_type": "code",
   "execution_count": 51,
   "metadata": {},
   "outputs": [
    {
     "name": "stdout",
     "output_type": "stream",
     "text": [
      "1 22 333 4444 55555 666666 7777777 88888888 999999999 10101010101010101010 "
     ]
    }
   ],
   "source": [
    "num=int(input(\"Enter the number : \"))\n",
    "for i in range(1,num+1,1):\n",
    "    for j in range(i):\n",
    "        print(f\"{i}\",end=\"\")\n",
    "    print(end=\" \")"
   ]
  },
  {
   "cell_type": "markdown",
   "metadata": {},
   "source": [
    "34. List Sum: Write a Python program to find the sum of all elements in a given list of integers."
   ]
  },
  {
   "cell_type": "code",
   "execution_count": 52,
   "metadata": {},
   "outputs": [
    {
     "name": "stdout",
     "output_type": "stream",
     "text": [
      "Small number : 1\n"
     ]
    }
   ],
   "source": [
    "list=[1,2,7,2,5,9,2,5,9,3,67,73,7,2,84,675,4]\n",
    "small=list[0]\n",
    "for i in range(1,len(list)-1,1):\n",
    "    if(list[i]<small):\n",
    "        small=list[i]\n",
    "print(f\"Small number : {small}\")"
   ]
  },
  {
   "cell_type": "markdown",
   "metadata": {},
   "source": [
    "35. List Average: Write a Python program to calculate the average of all elements in a given list of integers."
   ]
  },
  {
   "cell_type": "code",
   "execution_count": 53,
   "metadata": {},
   "outputs": [
    {
     "name": "stdout",
     "output_type": "stream",
     "text": [
      "Average number : 56.0\n"
     ]
    }
   ],
   "source": [
    "list=[1,2,7,2,5,9,2,5,9,3,67,73,7,2,84,675,4]\n",
    "sum=0\n",
    "for i in range(1,len(list)-1,1):\n",
    "    sum=sum+list[i]\n",
    "print(f\"Average number : {sum/len(list)}\")"
   ]
  },
  {
   "cell_type": "markdown",
   "metadata": {},
   "source": [
    "36. List Max and Min: Write a Python program to find the maximum and minimum values in a given list of integers."
   ]
  },
  {
   "cell_type": "code",
   "execution_count": 54,
   "metadata": {},
   "outputs": [
    {
     "name": "stdout",
     "output_type": "stream",
     "text": [
      "Maximum = 675\n",
      "Minimum = 1\n"
     ]
    }
   ],
   "source": [
    "list=[1,2,7,2,5,9,2,5,9,3,67,73,7,2,84,675,4]\n",
    "max=list[0]\n",
    "min=list[0]\n",
    "for i in range(1,len(list),1):\n",
    "    if(list[i]>max):\n",
    "        max=list[i]\n",
    "    if(min>list[i]):\n",
    "        min=list[i]\n",
    "print(f\"Maximum = {max}\")\n",
    "print(f\"Minimum = {min}\")"
   ]
  },
  {
   "cell_type": "markdown",
   "metadata": {},
   "source": [
    "37. List Sorting: Write a Python program to sort a list of integers in ascending order."
   ]
  },
  {
   "cell_type": "code",
   "execution_count": 4,
   "metadata": {},
   "outputs": [
    {
     "name": "stdout",
     "output_type": "stream",
     "text": [
      "[1, 2, 5, 9]\n"
     ]
    }
   ],
   "source": [
    "list=[9,2,1,5]\n",
    "for j in range(len(list)):\n",
    "\n",
    "    for i in range(len(list)-1):\n",
    "        if(list[i]>list[i+1]):\n",
    "            list[i],list[i+1]=list[i+1],list[i]\n",
    "print(list)"
   ]
  },
  {
   "cell_type": "markdown",
   "metadata": {},
   "source": [
    "38. List Filtering: Given a list of integers, write a Python program to create a new list that contains only the even numbers from the original list."
   ]
  },
  {
   "cell_type": "code",
   "execution_count": 5,
   "metadata": {},
   "outputs": [
    {
     "name": "stdout",
     "output_type": "stream",
     "text": [
      "[2, 2, 2, 2, 84, 4]\n"
     ]
    }
   ],
   "source": [
    "list=[1,2,7,2,5,9,2,5,9,3,67,73,7,2,84,675,4]\n",
    "even_list=[]\n",
    "for i in range(len(list)):\n",
    "    if(list[i]%2==0):\n",
    "        even_list.append(list[i])\n",
    "print(even_list)"
   ]
  },
  {
   "cell_type": "markdown",
   "metadata": {},
   "source": [
    "39. List Reversal: Write a Python program to reverse a given list without using any built-in functions."
   ]
  },
  {
   "cell_type": "code",
   "execution_count": 9,
   "metadata": {},
   "outputs": [
    {
     "name": "stdout",
     "output_type": "stream",
     "text": [
      "[5, 4, 675, 84, 2, 7, 73, 67, 3, 9, 5, 2, 9, 5, 2, 7, 2, 1]\n"
     ]
    }
   ],
   "source": [
    "list=[1,2,7,2,5,9,2,5,9,3,67,73,7,2,84,675,4,5]\n",
    "mid=int(len(list)/2)\n",
    "i=len(list)-1\n",
    "j=0\n",
    "while(i>=mid and j<=mid):\n",
    "    list[i],list[j]=list[j],list[i]\n",
    "    i=i-1\n",
    "    j=j+1\n",
    "print(list)"
   ]
  },
  {
   "cell_type": "markdown",
   "metadata": {},
   "source": [
    "40. List Manipulation: Given two lists of integers, write a Python program to create a new list that contains elements common to both lists."
   ]
  },
  {
   "cell_type": "code",
   "execution_count": 15,
   "metadata": {},
   "outputs": [
    {
     "name": "stdout",
     "output_type": "stream",
     "text": [
      "Common list : [5, 8, 2, 2, 2]\n"
     ]
    }
   ],
   "source": [
    "list_1=[1,5,4,334,73,8,83,98,2]\n",
    "list_2=[5,2,6,26,87,1238,2,2,9,8]\n",
    "common_list=[]\n",
    "for i in range(len(list_1)):\n",
    "    for j in range(len(list_2)):\n",
    "        if(list_1[i]==list_2[j]):\n",
    "            common_list.append(list_2[j])\n",
    "\n",
    "print(f\"Common list : {common_list}\")"
   ]
  },
  {
   "cell_type": "markdown",
   "metadata": {},
   "source": [
    "41. List Element Count: Write a Python program to count the occurrences of a specific element in a given list."
   ]
  },
  {
   "cell_type": "code",
   "execution_count": 16,
   "metadata": {},
   "outputs": [
    {
     "name": "stdout",
     "output_type": "stream",
     "text": [
      "2 is count = 4\n"
     ]
    }
   ],
   "source": [
    "list=[1,2,7,2,5,9,2,5,9,3,67,73,7,2,84,675,4]\n",
    "num=2\n",
    "count=0\n",
    "for i in range(len(list)):\n",
    "    if(num==list[i]):\n",
    "        count+=1\n",
    "print(f\"{num} is count = {count}\")"
   ]
  },
  {
   "cell_type": "markdown",
   "metadata": {},
   "source": [
    "42. List Duplicates Removal: Write a Python program to remove duplicates from a given list while preserving the order of the elements."
   ]
  },
  {
   "cell_type": "code",
   "execution_count": 18,
   "metadata": {},
   "outputs": [
    {
     "name": "stdout",
     "output_type": "stream",
     "text": [
      "{1, 2, 3, 67, 5, 675, 7, 4, 9, 73, 84}\n"
     ]
    }
   ],
   "source": [
    "list=[1,2,7,2,5,9,2,5,9,3,67,73,7,2,84,675,4]\n",
    "print(set(list)) # set not allow duplicate value"
   ]
  },
  {
   "cell_type": "markdown",
   "metadata": {},
   "source": [
    "43. List Comprehension: Given a list of integers, write a Python program to create a new list that contains the squares of the elements using list comprehension."
   ]
  },
  {
   "cell_type": "code",
   "execution_count": 1,
   "metadata": {},
   "outputs": [
    {
     "name": "stdout",
     "output_type": "stream",
     "text": [
      "[1, 2, 3, 4, 7]\n"
     ]
    }
   ],
   "source": [
    "list_of_numbers = [1, 2, 7, 2, 5, 9, 2, 5, 9, 3, 67, 73, 7, 2, 84, 675, 4, 16, 80,49]\n",
    "new_list = []\n",
    "max_value = max(list_of_numbers)\n",
    "\n",
    "for i in range(1, max_value + 1):\n",
    "    if (i * i) in list_of_numbers:\n",
    "        new_list.append(i)\n",
    "\n",
    "print(new_list)\n"
   ]
  },
  {
   "cell_type": "markdown",
   "metadata": {},
   "source": [
    "44. Matrix Addition: Write a Python program to add two matrices represented as nested lists."
   ]
  },
  {
   "cell_type": "code",
   "execution_count": 3,
   "metadata": {},
   "outputs": [
    {
     "name": "stdout",
     "output_type": "stream",
     "text": [
      "Enter 1st matrix : \n",
      "Enter 2nd matrix : \n",
      "1st matrix : \n",
      "1 2 \n",
      "\n",
      "3 4 \n",
      "\n",
      "2nd matrix : \n",
      "6 7 \n",
      "\n",
      "5 4 \n",
      "\n"
     ]
    }
   ],
   "source": [
    "matrix_1=[]\n",
    "matrix_2=[]\n",
    "matrix_1_row=int(input(\"Enter the 1st matrix row : \"))\n",
    "matrix_2_row=int (input(\"Enter the 2nd matrix row : \"))\n",
    "print(\"Enter 1st matrix : \")\n",
    "for i in range(matrix_1_row):\n",
    "    a=list(map(int,input(f\"Enter the row {i+1} : \").split()))\n",
    "    matrix_1.append(a)\n",
    "print(\"Enter 2nd matrix : \")\n",
    "for i in range(matrix_2_row):\n",
    "    a=list(map(int,input(f\"Enter the row {i+1} : \").split()))\n",
    "    matrix_2.append(a)\n",
    "\n",
    "print(\"1st matrix : \")\n",
    "for i in range(matrix_1_row):\n",
    "    for j in range(matrix_2_row):\n",
    "        print(matrix_1[i][j],end=\" \")\n",
    "    print(\"\\n\")  \n",
    "\n",
    "print(\"2nd matrix : \")\n",
    "for i in range(matrix_2_row):\n",
    "    for j in range(matrix_2_row):\n",
    "        print(matrix_2[i][j],end=\" \")\n",
    "    print(\"\\n\")    "
   ]
  },
  {
   "cell_type": "markdown",
   "metadata": {},
   "source": [
    "Write a Python program to flatten a given nested list and convert it into a single-dimensional list."
   ]
  },
  {
   "cell_type": "code",
   "execution_count": null,
   "metadata": {},
   "outputs": [],
   "source": [
    "nested_list = [1, [2, [3, 4], 5], [6, 7], 8]\n",
    "\n"
   ]
  }
 ],
 "metadata": {
  "kernelspec": {
   "display_name": "Python 3",
   "language": "python",
   "name": "python3"
  },
  "language_info": {
   "codemirror_mode": {
    "name": "ipython",
    "version": 3
   },
   "file_extension": ".py",
   "mimetype": "text/x-python",
   "name": "python",
   "nbconvert_exporter": "python",
   "pygments_lexer": "ipython3",
   "version": "3.12.2"
  }
 },
 "nbformat": 4,
 "nbformat_minor": 2
}
